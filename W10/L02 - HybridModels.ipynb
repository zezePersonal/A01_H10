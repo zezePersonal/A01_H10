{
 "cells": [
  {
   "cell_type": "markdown",
   "id": "40ac3af9",
   "metadata": {},
   "source": [
    "### Hibrit Modeller"
   ]
  },
  {
   "cell_type": "code",
   "execution_count": 1,
   "id": "c5add58b",
   "metadata": {},
   "outputs": [
    {
     "name": "stdout",
     "output_type": "stream",
     "text": [
      "test\n"
     ]
    }
   ],
   "source": [
    "print('test')\n",
    "# https://github.com/levintech/kaggle-courses/blob/master/13.%20Time%20Series/tutorial/05.%20hybrid-models.ipynb"
   ]
  },
  {
   "cell_type": "code",
   "execution_count": 2,
   "id": "e2c3ee1c",
   "metadata": {},
   "outputs": [],
   "source": [
    "# Seri = Trend + Mevsimler + Donguler + Hata"
   ]
  },
  {
   "cell_type": "code",
   "execution_count": null,
   "id": "e6d8494b",
   "metadata": {},
   "outputs": [],
   "source": [
    "'''\n",
    "Hem trend hem de mevsimselligi ele alarak yapilan calisma.\n",
    "Trendi cikarttiktan sonra cok duzgun donguler cikiyor\n",
    "Bu donguler ile birlikte hata cok azaliyor\n",
    "\n",
    "Trend + Seasonality\n",
    "\n",
    "'''"
   ]
  }
 ],
 "metadata": {
  "kernelspec": {
   "display_name": "h10_venv",
   "language": "python",
   "name": "python3"
  },
  "language_info": {
   "codemirror_mode": {
    "name": "ipython",
    "version": 3
   },
   "file_extension": ".py",
   "mimetype": "text/x-python",
   "name": "python",
   "nbconvert_exporter": "python",
   "pygments_lexer": "ipython3",
   "version": "3.12.1"
  }
 },
 "nbformat": 4,
 "nbformat_minor": 5
}
